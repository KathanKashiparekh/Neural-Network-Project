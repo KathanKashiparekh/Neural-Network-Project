{
 "cells": [
  {
   "cell_type": "code",
   "execution_count": 1,
   "metadata": {
    "collapsed": false
   },
   "outputs": [
    {
     "name": "stderr",
     "output_type": "stream",
     "text": [
      "/usr/lib/python3.4/importlib/_bootstrap.py:321: FutureWarning: Conversion of the second argument of issubdtype from `float` to `np.floating` is deprecated. In future, it will be treated as `np.float64 == np.dtype(float).type`.\n",
      "  return f(*args, **kwds)\n",
      "Using TensorFlow backend.\n"
     ]
    }
   ],
   "source": [
    "from keras.models import load_model\n",
    "from os import listdir\n",
    "from scipy import misc\n",
    "from skimage import io,color\n",
    "import matplotlib.pyplot as plt\n",
    "import numpy as np\n",
    "import pandas as pd\n",
    "import pickle\n",
    "import _pickle as cPickle\n",
    "from keras.models import Sequential\n",
    "from keras.layers import Dense,Embedding,LSTM,GRU\n",
    "\n",
    "%matplotlib inline"
   ]
  },
  {
   "cell_type": "code",
   "execution_count": 13,
   "metadata": {
    "collapsed": false
   },
   "outputs": [],
   "source": [
    "train_data=cPickle.load(open('RNN_Train_6.p','rb'))\n",
    "test_data=cPickle.load(open('RNN_Test_6.p','rb'))\n",
    "\n",
    "x_train,y_train=[train_data[i][0] for i in range(len(train_data))],[train_data[i][1] for i in range(len(train_data))]\n",
    "x_test,y_test=[test_data[i][0] for i in range(len(test_data))],[test_data[i][1] for i in range(len(test_data))]"
   ]
  },
  {
   "cell_type": "code",
   "execution_count": 14,
   "metadata": {
    "collapsed": false
   },
   "outputs": [
    {
     "name": "stdout",
     "output_type": "stream",
     "text": [
      "87\n",
      "26\n",
      "(87, 50, 1024)\n",
      "(87, 9)\n"
     ]
    }
   ],
   "source": [
    "print(len(x_train))\n",
    "print(len(x_test))\n",
    "x_train=np.array(x_train)\n",
    "x_test=np.array(x_test)\n",
    "print(x_train.shape)\n",
    "y_train=np.asarray(y_train)\n",
    "y_test=np.asarray(y_test)\n",
    "print(y_train.shape)"
   ]
  },
  {
   "cell_type": "code",
   "execution_count": 5,
   "metadata": {
    "collapsed": false
   },
   "outputs": [
    {
     "name": "stdout",
     "output_type": "stream",
     "text": [
      "(50, 3200)\n",
      "[0. 0. 0. 0. 0. 0. 0. 0. 1.]\n"
     ]
    }
   ],
   "source": [
    "print(x_train[86].shape)\n",
    "print(y_train[86])"
   ]
  },
  {
   "cell_type": "code",
   "execution_count": null,
   "metadata": {
    "collapsed": false,
    "scrolled": false
   },
   "outputs": [
    {
     "name": "stdout",
     "output_type": "stream",
     "text": [
      "_________________________________________________________________\n",
      "Layer (type)                 Output Shape              Param #   \n",
      "=================================================================\n",
      "lstm_5 (LSTM)                (None, 128)               590336    \n",
      "_________________________________________________________________\n",
      "dense_6 (Dense)              (None, 9)                 1161      \n",
      "=================================================================\n",
      "Total params: 591,497\n",
      "Trainable params: 591,497\n",
      "Non-trainable params: 0\n",
      "_________________________________________________________________\n",
      "None\n",
      "Train on 87 samples, validate on 26 samples\n",
      "Epoch 1/20\n",
      "87/87 [==============================] - 4s 48ms/step - loss: 1.9106 - acc: 0.3793 - val_loss: 1.7415 - val_acc: 0.5769\n",
      "Epoch 2/20\n",
      "87/87 [==============================] - 2s 26ms/step - loss: 0.9433 - acc: 0.8161 - val_loss: 1.7407 - val_acc: 0.6154\n",
      "Epoch 3/20\n",
      "87/87 [==============================] - 2s 27ms/step - loss: 0.5601 - acc: 0.9080 - val_loss: 1.6304 - val_acc: 0.5769\n",
      "Epoch 4/20\n",
      "87/87 [==============================] - 2s 27ms/step - loss: 0.3644 - acc: 0.9310 - val_loss: 1.5602 - val_acc: 0.6154\n",
      "Epoch 5/20\n",
      "87/87 [==============================] - 2s 27ms/step - loss: 0.2371 - acc: 0.9655 - val_loss: 1.9086 - val_acc: 0.5385\n",
      "Epoch 6/20\n",
      "87/87 [==============================] - 2s 27ms/step - loss: 0.2190 - acc: 0.9540 - val_loss: 1.8933 - val_acc: 0.5769\n",
      "Epoch 7/20\n",
      "87/87 [==============================] - 2s 27ms/step - loss: 0.1601 - acc: 0.9540 - val_loss: 2.0690 - val_acc: 0.5385\n",
      "Epoch 8/20\n",
      "87/87 [==============================] - 2s 28ms/step - loss: 0.1288 - acc: 0.9655 - val_loss: 1.9572 - val_acc: 0.5385\n",
      "Epoch 9/20\n",
      "87/87 [==============================] - 2s 27ms/step - loss: 0.1001 - acc: 0.9655 - val_loss: 2.0954 - val_acc: 0.5385\n",
      "Epoch 10/20\n",
      "87/87 [==============================] - 2s 26ms/step - loss: 0.0754 - acc: 0.9655 - val_loss: 2.1412 - val_acc: 0.5000\n",
      "Epoch 11/20\n",
      "87/87 [==============================] - 2s 26ms/step - loss: 0.0627 - acc: 0.9885 - val_loss: 2.2291 - val_acc: 0.5385\n",
      "Epoch 12/20\n",
      "87/87 [==============================] - 2s 27ms/step - loss: 0.0434 - acc: 0.9885 - val_loss: 2.3026 - val_acc: 0.5385\n",
      "Epoch 13/20\n",
      "87/87 [==============================] - 2s 27ms/step - loss: 0.1099 - acc: 0.9540 - val_loss: 2.1535 - val_acc: 0.6154\n",
      "Epoch 14/20\n",
      "87/87 [==============================] - 3s 29ms/step - loss: 0.0426 - acc: 0.9885 - val_loss: 2.1420 - val_acc: 0.6154\n",
      "Epoch 15/20\n",
      "87/87 [==============================] - 3s 30ms/step - loss: 0.0287 - acc: 0.9885 - val_loss: 2.1229 - val_acc: 0.6538\n",
      "Epoch 16/20\n",
      "87/87 [==============================] - 2s 28ms/step - loss: 0.0340 - acc: 0.9885 - val_loss: 2.3034 - val_acc: 0.6154\n",
      "Epoch 17/20\n",
      "87/87 [==============================] - 2s 28ms/step - loss: 0.0660 - acc: 0.9885 - val_loss: 2.1631 - val_acc: 0.6538\n",
      "Epoch 18/20\n",
      "87/87 [==============================] - 3s 29ms/step - loss: 0.0299 - acc: 0.9885 - val_loss: 2.1592 - val_acc: 0.6538\n",
      "Epoch 19/20\n",
      "56/87 [==================>...........] - ETA: 0s - loss: 0.0218 - acc: 0.9821"
     ]
    }
   ],
   "source": [
    "# 15 epochs for 128 max and 20/25 max for 256\n",
    "from keras.models import Sequential\n",
    "from keras import optimizers\n",
    "from keras.layers import Dense,Embedding,LSTM,GRU,RNN,SimpleRNN,Dropout\n",
    "model = Sequential()\n",
    "# adam=optimizers.Adam(lr=0.001,decay=1e-4)\n",
    "# rms=optimizers.RMSprop()\n",
    "rms=optimizers.RMSprop(lr=0.001,decay=1e-4)\n",
    "model.add(LSTM(128,input_shape=(x_train.shape[1],x_train.shape[2]),dropout=0.2,recurrent_dropout=0.2)) #256 gave best\n",
    "# model.add(LSTM(256,dropout=0.3,recurrent_dropout=0.3))\n",
    "# model.add(Dense(256,activation='relu'))\n",
    "# model.add(Dropout(0.5))\n",
    "model.add(Dense(9, activation='softmax'))\n",
    "print(model.summary())\n",
    "model.compile(loss='categorical_crossentropy', optimizer=rms, metrics=['accuracy'])\n",
    "model.fit(x_train,y_train,epochs=20,batch_size=4,validation_data=(x_test,y_test),shuffle=True)"
   ]
  },
  {
   "cell_type": "code",
   "execution_count": 10,
   "metadata": {
    "collapsed": true
   },
   "outputs": [],
   "source": [
    "# model.save('Model_73_7.h5')"
   ]
  },
  {
   "cell_type": "code",
   "execution_count": 8,
   "metadata": {
    "collapsed": false
   },
   "outputs": [
    {
     "name": "stdout",
     "output_type": "stream",
     "text": [
      "_________________________________________________________________\n",
      "Layer (type)                 Output Shape              Param #   \n",
      "=================================================================\n",
      "lstm_21 (LSTM)               (None, 128)               590336    \n",
      "_________________________________________________________________\n",
      "dense_28 (Dense)             (None, 9)                 1161      \n",
      "=================================================================\n",
      "Total params: 591,497\n",
      "Trainable params: 591,497\n",
      "Non-trainable params: 0\n",
      "_________________________________________________________________\n",
      "None\n"
     ]
    }
   ],
   "source": [
    "model=load_model('Model_69_7.h5')\n",
    "# predict=model.predict(x_test)\n",
    "# model.evaluate(x_test,y_test)\n",
    "print(model.summary())"
   ]
  },
  {
   "cell_type": "code",
   "execution_count": 32,
   "metadata": {
    "collapsed": false
   },
   "outputs": [
    {
     "name": "stdout",
     "output_type": "stream",
     "text": [
      "True: Golf  Pred: Running\n",
      "True: Running  Pred: Walking\n",
      "True: Running  Pred: Golf\n",
      "True: SkateBoarding  Pred: Walking\n",
      "True: SkateBoarding  Pred: Walking\n",
      "True: Swing-Bench  Pred: Running\n",
      "True: Walking  Pred: Golf\n"
     ]
    }
   ],
   "source": [
    "categories=[\"Golf\",\"Kicking\",\"Lifting\",\"Riding\",\"Running\",\"SkateBoarding\",\"Swing-Bench\",\"Swing-SideAngle\",\"Walking\"]\n",
    "for i in range(predict.shape[0]):\n",
    "    pred=np.argmax(predict[i])\n",
    "    true=np.argmax(y_test[i])\n",
    "    if pred!=true:\n",
    "        print(\"True: \"+str(categories[true])+\"  Pred: \"+str(categories[pred]))"
   ]
  },
  {
   "cell_type": "code",
   "execution_count": null,
   "metadata": {
    "collapsed": true
   },
   "outputs": [],
   "source": []
  }
 ],
 "metadata": {
  "anaconda-cloud": {},
  "kernelspec": {
   "display_name": "Python 3",
   "language": "python",
   "name": "python3"
  },
  "language_info": {
   "codemirror_mode": {
    "name": "ipython",
    "version": 3
   },
   "file_extension": ".py",
   "mimetype": "text/x-python",
   "name": "python",
   "nbconvert_exporter": "python",
   "pygments_lexer": "ipython3",
   "version": "3.4.3+"
  }
 },
 "nbformat": 4,
 "nbformat_minor": 1
}
