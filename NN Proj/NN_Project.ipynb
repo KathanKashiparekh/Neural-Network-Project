{
 "cells": [
  {
   "cell_type": "code",
   "execution_count": 1,
   "metadata": {
    "collapsed": true
   },
   "outputs": [],
   "source": [
    "from __future__ import division\n",
    "import numpy as np\n",
    "import pandas as pd\n",
    "import skvideo.io\n",
    "from scipy import misc\n",
    "import os\n",
    "from skimage import io,color\n",
    "from random import shuffle\n",
    "import shutil\n",
    "import matplotlib.pyplot as plt\n",
    "\n",
    "%matplotlib inline"
   ]
  },
  {
   "cell_type": "code",
   "execution_count": 5,
   "metadata": {
    "collapsed": false
   },
   "outputs": [],
   "source": [
    "categories=[\"Golf\",\"Kicking\",\"Lifting\",\"Riding\",\"Running\",\"SkateBoarding\",\"Swing-Bench\",\"Swing-SideAngle\",\"Walking\"]\n",
    "path=\"NNFL_Training_Set/NNFL_Training_Set/\"\n",
    "folders=os.listdir(path)\n",
    "folders=[x for x in folders if '.' not in x]\n",
    "sizes=[]\n",
    "# print(folders)"
   ]
  },
  {
   "cell_type": "code",
   "execution_count": 3,
   "metadata": {
    "collapsed": false
   },
   "outputs": [
    {
     "name": "stdout",
     "output_type": "stream",
     "text": [
      "Golf Golf-Swing-Back\n"
     ]
    },
    {
     "name": "stderr",
     "output_type": "stream",
     "text": [
      "/home/kathan/.local/lib/python3.4/site-packages/ipykernel_launcher.py:28: DeprecationWarning: `imsave` is deprecated!\n",
      "`imsave` is deprecated in SciPy 1.0.0, and will be removed in 1.2.0.\n",
      "Use ``imageio.imwrite`` instead.\n",
      "/home/kathan/.local/lib/python3.4/site-packages/ipykernel_launcher.py:30: DeprecationWarning: `imsave` is deprecated!\n",
      "`imsave` is deprecated in SciPy 1.0.0, and will be removed in 1.2.0.\n",
      "Use ``imageio.imwrite`` instead.\n"
     ]
    },
    {
     "name": "stdout",
     "output_type": "stream",
     "text": [
      "Golf Golf-Swing-Front\n",
      "Golf Golf-Swing-Side\n",
      "Kicking Kicking-Front\n",
      "Kicking Kicking-Side\n",
      "Lifting Lifting\n",
      "Riding Riding-Horse\n",
      "Running Running\n",
      "SkateBoarding SkateBoarding\n",
      "Swing-Bench Swing-Bench\n",
      "Swing-SideAngle Swing-SideAngle\n",
      "Walking Walking\n"
     ]
    }
   ],
   "source": [
    "# Code to get the frames from each video and create a new dataset from it.\n",
    "if not os.path.exists('New_Data_Aug'):\n",
    "    os.makedirs('New_Data_Aug')\n",
    "file_count=0\n",
    "frame_count=0\n",
    "for c in categories:\n",
    "    if not os.path.exists('New_Data_Aug/'+c):\n",
    "        os.makedirs('New_Data_Aug/'+c)\n",
    "    file_count=0\n",
    "    for f in folders:\n",
    "        if c in f:\n",
    "            print(c+\" \"+f)\n",
    "            files=os.listdir(path+f+'/')\n",
    "            files=[x for x in files if '.' not in x]\n",
    "            for file_name in files:\n",
    "                stuff=os.listdir(path+f+'/'+file_name+'/')\n",
    "                stuff=[x for x in stuff if '.avi' in x or '.mp4' in x]\n",
    "                if not os.path.exists('New_Data_Aug/'+c+'/'+str(file_count)):\n",
    "                    os.makedirs('New_Data_Aug/'+c+'/'+str(file_count))\n",
    "                if not os.path.exists('New_Data_Aug/'+c+'/'+str(file_count+1)):\n",
    "                    os.makedirs('New_Data_Aug/'+c+'/'+str(file_count+1))\n",
    "                for s in stuff:\n",
    "                    videogen = skvideo.io.vreader(path+f+'/'+file_name+'/'+s)\n",
    "                    frame_count=0;\n",
    "                    for frame in videogen:\n",
    "#                         img=color.rgb2gray(frame)\n",
    "#                         img=misc.imresize(img,(64,64))\n",
    "                        misc.imsave('New_Data_Aug/'+c+'/'+str(file_count)+'/'+str(frame_count)+'.jpg',frame)\n",
    "                        flipped=np.fliplr(frame)\n",
    "                        misc.imsave('New_Data_Aug/'+c+'/'+str(file_count+1)+'/'+str(frame_count)+'.jpg',flipped)\n",
    "                        frame_count=frame_count+1\n",
    "                file_count=file_count+2\n",
    "    sizes.append((file_count))\n",
    "                "
   ]
  },
  {
   "cell_type": "code",
   "execution_count": 7,
   "metadata": {
    "collapsed": false
   },
   "outputs": [
    {
     "name": "stdout",
     "output_type": "stream",
     "text": [
      "[28, 32, 10, 20, 22, 20, 34, 22, 38]\n"
     ]
    }
   ],
   "source": [
    "sizes = [14, 16, 5, 10, 11, 10, 17, 11, 19]\n",
    "sizes=[ int(x*2) for x in sizes]\n",
    "print(sizes)"
   ]
  },
  {
   "cell_type": "code",
   "execution_count": 11,
   "metadata": {
    "collapsed": false,
    "scrolled": true
   },
   "outputs": [
    {
     "name": "stdout",
     "output_type": "stream",
     "text": [
      "Golf 14\n",
      "Golf 0\n",
      "Golf 18\n",
      "Golf 22\n",
      "Golf 20\n",
      "Golf 12\n",
      "Golf 26\n",
      "Golf 4\n",
      "Golf 24\n",
      "Golf 2\n",
      "Golf 16\n",
      "Golf 6\n",
      "Golf 10\n",
      "Golf 8\n",
      "Kicking 26\n",
      "Kicking 24\n",
      "Kicking 14\n",
      "Kicking 16\n",
      "Kicking 8\n",
      "Kicking 30\n",
      "Kicking 12\n",
      "Kicking 6\n",
      "Kicking 4\n",
      "Kicking 28\n",
      "Kicking 2\n",
      "Kicking 18\n",
      "Kicking 0\n",
      "Kicking 20\n",
      "Kicking 10\n",
      "Kicking 22\n",
      "Lifting 6\n",
      "Lifting 4\n",
      "Lifting 8\n",
      "Lifting 2\n",
      "Lifting 0\n",
      "Riding 6\n",
      "Riding 4\n",
      "Riding 10\n",
      "Riding 0\n",
      "Riding 18\n",
      "Riding 8\n",
      "Riding 14\n",
      "Riding 2\n",
      "Riding 16\n",
      "Riding 12\n",
      "Running 8\n",
      "Running 20\n",
      "Running 6\n",
      "Running 16\n",
      "Running 12\n",
      "Running 0\n",
      "Running 14\n",
      "Running 4\n",
      "Running 18\n",
      "Running 2\n",
      "Running 10\n",
      "SkateBoarding 0\n",
      "SkateBoarding 14\n",
      "SkateBoarding 12\n",
      "SkateBoarding 16\n",
      "SkateBoarding 10\n",
      "SkateBoarding 2\n",
      "SkateBoarding 18\n",
      "SkateBoarding 6\n",
      "SkateBoarding 8\n",
      "SkateBoarding 4\n",
      "Swing-Bench 12\n",
      "Swing-Bench 16\n",
      "Swing-Bench 6\n",
      "Swing-Bench 4\n",
      "Swing-Bench 2\n",
      "Swing-Bench 14\n",
      "Swing-Bench 32\n",
      "Swing-Bench 22\n",
      "Swing-Bench 10\n",
      "Swing-Bench 20\n",
      "Swing-Bench 24\n",
      "Swing-Bench 8\n",
      "Swing-Bench 26\n",
      "Swing-Bench 28\n",
      "Swing-Bench 0\n",
      "Swing-Bench 18\n",
      "Swing-Bench 30\n",
      "Swing-SideAngle 10\n",
      "Swing-SideAngle 2\n",
      "Swing-SideAngle 6\n",
      "Swing-SideAngle 4\n",
      "Swing-SideAngle 14\n",
      "Swing-SideAngle 20\n",
      "Swing-SideAngle 16\n",
      "Swing-SideAngle 0\n",
      "Swing-SideAngle 18\n",
      "Swing-SideAngle 12\n",
      "Swing-SideAngle 8\n",
      "Walking 32\n",
      "Walking 22\n",
      "Walking 16\n",
      "Walking 28\n",
      "Walking 24\n",
      "Walking 12\n",
      "Walking 2\n",
      "Walking 26\n",
      "Walking 10\n",
      "Walking 20\n",
      "Walking 36\n",
      "Walking 8\n",
      "Walking 0\n",
      "Walking 4\n",
      "Walking 6\n",
      "Walking 30\n",
      "Walking 18\n",
      "Walking 14\n",
      "Walking 34\n"
     ]
    }
   ],
   "source": [
    "# Break data into train and test folders\n",
    "path1='New_Data_Aug/'\n",
    "total=sum(sizes)\n",
    "if not os.path.exists('Train_Aug'):\n",
    "    os.makedirs('Train_Aug')\n",
    "if not os.path.exists('Test_Aug'):\n",
    "    os.makedirs('Test_Aug')\n",
    "for c in categories:\n",
    "    if not os.path.exists('Train_Aug/'+c):\n",
    "        os.makedirs('Train_Aug/'+c)\n",
    "    if not os.path.exists('Test_Aug/'+c):\n",
    "        os.makedirs('Test_Aug/'+c)\n",
    "        \n",
    "    files=os.listdir(path1+c+'/')\n",
    "#     print(files)\n",
    "#     shuffle(files)\n",
    "    numbers=[x for x in range(0,sizes[categories.index(c)],2)]\n",
    "#     print(numbers)\n",
    "    shuffle(numbers)\n",
    "    train_size=int((sizes[categories.index(c)]/(2*total))*0.8*total)\n",
    "#     print(numbers)\n",
    "#     print(train_size)\n",
    "    \n",
    "#     for f in files[:train_size]:\n",
    "    for f in numbers[:train_size]:\n",
    "        print(c+\" \"+str(f))\n",
    "        if not os.path.exists('Train_Aug/'+c+'/'+str(f)):\n",
    "            os.makedirs('Train_Aug/'+c+'/'+str(f))\n",
    "        if not os.path.exists('Train_Aug/'+c+'/'+str(f+1)):\n",
    "            os.makedirs('Train_Aug/'+c+'/'+str(f+1))\n",
    "        for imgs in os.listdir(path1+c+'/'+str(f)+'/'):\n",
    "            shutil.copyfile(path1+c+'/'+str(f)+'/'+imgs,'Train_Aug/'+c+'/'+str(f)+'/'+imgs)\n",
    "        for imgs in os.listdir(path1+c+'/'+str(f+1)+'/'):\n",
    "            shutil.copyfile(path1+c+'/'+str(f+1)+'/'+imgs,'Train_Aug/'+c+'/'+str(f+1)+'/'+imgs)\n",
    "    \n",
    "#     for f in files[train_size:]:\n",
    "    for f in numbers[train_size:]:\n",
    "        print(c+\" \"+str(f))\n",
    "        if not os.path.exists('Test_Aug/'+c+'/'+str(f)):\n",
    "            os.makedirs('Test_Aug/'+c+'/'+str(f))\n",
    "        if not os.path.exists('Test_Aug/'+c+'/'+str(f+1)):\n",
    "            os.makedirs('Test_Aug/'+c+'/'+str(f+1))\n",
    "        for imgs in os.listdir(path1+c+'/'+str(f)+'/'):\n",
    "            shutil.copyfile(path1+c+'/'+str(f)+'/'+imgs,'Test_Aug/'+c+'/'+str(f)+'/'+imgs)\n",
    "        for imgs in os.listdir(path1+c+'/'+str(f+1)+'/'):\n",
    "            shutil.copyfile(path1+c+'/'+str(f+1)+'/'+imgs,'Test_Aug/'+c+'/'+str(f+1)+'/'+imgs)\n",
    "    "
   ]
  },
  {
   "cell_type": "code",
   "execution_count": 12,
   "metadata": {
    "collapsed": false
   },
   "outputs": [
    {
     "name": "stdout",
     "output_type": "stream",
     "text": [
      "Golf\n",
      "Kicking\n",
      "Lifting\n",
      "Riding\n",
      "Running\n",
      "SkateBoarding\n",
      "Swing-Bench\n",
      "Swing-SideAngle\n",
      "Walking\n"
     ]
    }
   ],
   "source": [
    "if not os.path.exists('CNN_Train_Aug'):\n",
    "    os.makedirs('CNN_Train_Aug')\n",
    "if not os.path.exists('CNN_Test_Aug'):\n",
    "    os.makedirs('CNN_Test_Aug')\n",
    "\n",
    "count_train=0\n",
    "count_test=0\n",
    "for c in categories:\n",
    "    print(c)\n",
    "    count_train=0\n",
    "    count_test=0\n",
    "    if not os.path.exists('CNN_Train_Aug/'+c):\n",
    "        os.makedirs('CNN_Train_Aug/'+c)\n",
    "    for files in os.listdir('Train_Aug/'+c+'/'):\n",
    "        for imgs in os.listdir('Train_Aug/'+c+'/'+files+'/'):\n",
    "            shutil.copyfile('Train_Aug/'+c+'/'+files+'/'+imgs,'CNN_Train_Aug/'+c+'/'+str(count_train)+'.jpg')\n",
    "            count_train=count_train+1\n",
    "    \n",
    "    if not os.path.exists('CNN_Test_Aug/'+c):\n",
    "        os.makedirs('CNN_Test_Aug/'+c)\n",
    "    for files in os.listdir('Test_Aug/'+c+'/'):\n",
    "        for imgs in os.listdir('Test_Aug/'+c+'/'+files+'/'):\n",
    "            shutil.copyfile('Test_Aug/'+c+'/'+files+'/'+imgs,'CNN_Test_Aug/'+c+'/'+str(count_test)+'.jpg')\n",
    "            count_test=count_test+1\n",
    "            "
   ]
  },
  {
   "cell_type": "code",
   "execution_count": 3,
   "metadata": {
    "collapsed": false
   },
   "outputs": [
    {
     "name": "stdout",
     "output_type": "stream",
     "text": [
      "['5238-17_700641.jpg', '5238-17_700642.jpg', '5238-17_700643.jpg', '5238-17_700646.jpg', '5238-17_700647.jpg', '5238-17_700648.jpg', '5238-17_700649.jpg', '5238-17_700650.jpg', '5238-17_700651.jpg', '5238-17_700652.jpg', '5238-17_700653.jpg', '5238-17_700654.jpg', '5238-17_700655.jpg', '5238-17_700656.jpg', '5238-17_700657.jpg', '5238-17_700658.jpg', '5238-17_700659.jpg', '5238-17_700660.jpg', '5238-17_700661.jpg', '5238-17_700662.jpg', '5238-17_700663.jpg', '5238-17_700664.jpg', '5238-17_700665.jpg', '5238-17_700666.jpg', '5238-17_700667.jpg', '5238-17_700668.jpg', '5238-17_700669.jpg', '5238-17_700670.jpg', '5238-17_700671.jpg', '5238-17_700672.jpg', '5238-17_700673.jpg', '5238-17_700674.jpg', '5238-17_700675.jpg', '5238-17_700676.jpg', '5238-17_700677.jpg', '5238-17_700678.jpg', '5238-17_700679.jpg', '5238-17_700680.jpg', '5238-17_700681.jpg', '5238-17_700682.jpg', '5238-17_700683.jpg', '5238-17_700684.jpg', '5238-17_700685.jpg', '5238-17_700686.jpg', '5238-17_700687.jpg', '5238-17_700688.jpg', '5238-17_700689.jpg', '5238-17_700690.jpg', '5238-17_700691.jpg', '5238-17_700692.jpg', '5238-17_700693.jpg', '5238-17_700694.jpg', '5238-17_700695.jpg', '5238-17_700696.jpg', '5238-17_700697.jpg', '5238-17_700698.jpg', '5238-17_700699.jpg', '5238-17_700700.jpg', '5238-17_700701.jpg', '5238-17_700702.jpg', '5238-17_700703.jpg', '5238-17_700704.jpg', '5238-17_700705.jpg', '5238-17_700706.jpg', '5238-17_700707.jpg']\n"
     ]
    }
   ],
   "source": [
    "path=\"NNFL_Training_Set/NNFL_Training_Set/\"\n",
    "# files=os.listdir(path+\"Running/011/\")\n",
    "# files=[x for x in files if '.jpg' in x]\n",
    "# files.sort()\n",
    "# # print(files)\n",
    "# count=0\n",
    "# for f in files:\n",
    "#     shutil.copyfile(path+\"Running/011/\"+f,'CNN_Train_Aug/'+c+'/'+str(count_train)+'.jpg')\n",
    "    \n",
    "    \n",
    "files=os.listdir(path+\"Running/003/\")\n",
    "files=[x for x in files if '.jpg' in x]\n",
    "files.sort()\n",
    "print(files)\n",
    "count=0\n",
    "for f in files:\n",
    "    shutil.copyfile(path+\"Running/003/\"+f,'Train/Running/2/'+str(count)+'.jpg')\n",
    "    count=count+1"
   ]
  },
  {
   "cell_type": "code",
   "execution_count": null,
   "metadata": {
    "collapsed": true
   },
   "outputs": [],
   "source": []
  }
 ],
 "metadata": {
  "anaconda-cloud": {},
  "kernelspec": {
   "display_name": "Python 3",
   "language": "python",
   "name": "python3"
  },
  "language_info": {
   "codemirror_mode": {
    "name": "ipython",
    "version": 3
   },
   "file_extension": ".py",
   "mimetype": "text/x-python",
   "name": "python",
   "nbconvert_exporter": "python",
   "pygments_lexer": "ipython3",
   "version": "3.4.3+"
  }
 },
 "nbformat": 4,
 "nbformat_minor": 1
}
